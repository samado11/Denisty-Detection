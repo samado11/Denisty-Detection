{
 "cells": [
  {
   "cell_type": "code",
   "execution_count": 4,
   "metadata": {},
   "outputs": [],
   "source": [
    "import facebook\n",
    "import json\n",
    "import requests\n",
    "import datetime"
   ]
  },
  {
   "cell_type": "code",
   "execution_count": 21,
   "metadata": {},
   "outputs": [],
   "source": [
    "token = '''EAAIcoZAzvNoYBACqjXjZCSAq2uSjgoPYsdeLJ4OBYZBkS8W1ZAQ6QyXPJb0KUJ5tiD9tk9B7NZCcOz1D6iBD8ZAJUTevhiDa39Byrbdp\n",
    "ZCmjwcXJTFX9GAOdtIJompRf8RxBsuYEiMwTdkEVJAYLpCoEjYc8WrcnpTZAZAfisSsD3Ok7cMNzZBmUaC0ZAkDTq7UKQHCowJjx6u3r\n",
    "D9ffhcWgnyRngGw6UtFQPR32ZAL2lcDxA0VoEZCYxnTZCx'''\n",
    "def get_data_sdk():\n",
    "    try:\n",
    "        graph=facebook.GraphAPI(access_token=token)\n",
    "        likes=graph.request('/me/likes')[\"data\"]\n",
    "        user=graph.request('/me?fields=name')\n",
    "        \n",
    "        newlist=[]\n",
    "        for d in likes:\n",
    "            newlist.append(d['name'])\n",
    "        \n",
    "        if newlist !=0:\n",
    "            now = datetime.datetime.now()\n",
    "            filename = str(user['name']) + 'likes on' + now.strftime('-%y-%m-%d-' + '@-%h-%m')\n",
    "            \n",
    "            with open(filename+'.txt' ,'w', encoding=\"utf-8\") as f:\n",
    "                for item in newlist:\n",
    "                    f.write('%S/n' % item)\n",
    "            print(\"saved successfuly\")\n",
    "        else:\n",
    "            print(\"there were no likes\")\n",
    "            \n",
    "    except Exception as e:\n",
    "        print(e)\n",
    "        "
   ]
  },
  {
   "cell_type": "code",
   "execution_count": 25,
   "metadata": {},
   "outputs": [],
   "source": [
    "def get_data_api():\n",
    "    try:\n",
    "        \n",
    "        fields_likes,fields_users= \"https://graph.facebook.com/v12.0/3963767223659701/likes?access_token=EAAIcoZAzvNoYBACqjXjZCSAq2uSjgoPYsdeLJ4OBYZBkS8W1ZAQ6QyXPJb0KUJ5tiD9tk9B7NZCcOz1D6iBD8ZAJUTevhiDa39ByrbdpZCmjwcXJTFX9GAOdtIJompRf8RxBsuYEiMwTdkEVJAYLpCoEjYc8WrcnpTZAZAfisSsD3Ok7cMNzZBmUaC0ZAkDTq7UKQHCowJjx6u3rD9ffhcWgnyRngGw6UtFQPR32ZAL2lcDxA0VoEZCYxnTZCx&pretty=0&limit=25&after=MTY1NDIzNTE1MTI5NzI5NAZDZD\",\\\n",
    "        \"https://graph.facebook.com/me?access_token=EAAIcoZAzvNoYBACqjXjZCSAq2uSjgoPYsdeLJ4OBYZBkS8W1ZAQ6QyXPJb0KUJ5tiD9tk9B7NZCcOz1D6iBD8ZAJUTevhiDa39ByrbdpZCmjwcXJTFX9GAOdtIJompRf8RxBsuYEiMwTdkEVJAYLpCoEjYc8WrcnpTZAZAfisSsD3Ok7cMNzZBmUaC0ZAkDTq7UKQHCowJjx6u3rD9ffhcWgnyRngGw6UtFQPR32ZAL2lcDxA0VoEZCYxnTZCx&pretty=0&limit=25&after=MTY1NDIzNTE1MTI5NzI5NAZDZD\"\n",
    "        \n",
    "        likes = json.loads(requests.get(fields_likes).text)[\"data\"]\n",
    "        user = json.loads(requests.get(fields_users).text)[\"name\"]\n",
    "        newlist=[]\n",
    "        for d in likes:\n",
    "            newlist.append(d['name'])\n",
    "        \n",
    "        if newlist !=0:\n",
    "            now = datetime.datetime.now()\n",
    "            filename = user + 'likes on' + now.strftime('-%y-%m-%d-' + '@-%h-%m')\n",
    "            \n",
    "            with open(filename+'.txt' ,'w', encoding=\"utf-8\") as f:\n",
    "                for item in newlist:\n",
    "                    f.write('%s/n' % item)\n",
    "            print(\"saved successfuly\")\n",
    "        else:\n",
    "            print(\"there were no likes\")\n",
    "            \n",
    "    except Exception as e:\n",
    "        print(e)"
   ]
  },
  {
   "cell_type": "code",
   "execution_count": 26,
   "metadata": {},
   "outputs": [
    {
     "name": "stdout",
     "output_type": "stream",
     "text": [
      "saved successfuly\n"
     ]
    }
   ],
   "source": [
    "get_data_api()"
   ]
  },
  {
   "cell_type": "code",
   "execution_count": 31,
   "metadata": {},
   "outputs": [],
   "source": [
    "token = '''EAAIcoZAzvNoYBACqjXjZCSAq2uSjgoPYsdeLJ4OBYZBkS8W1ZAQ6QyXPJb0KUJ5tiD9tk9B7NZCcOz1D6iBD8ZAJUTevhiDa39Byrbdp\n",
    "ZCmjwcXJTFX9GAOdtIJompRf8RxBsuYEiMwTdkEVJAYLpCoEjYc8WrcnpTZAZAfisSsD3Ok7cMNzZBmUaC0ZAkDTq7UKQHCowJjx6u3r\n",
    "D9ffhcWgnyRngGw6UtFQPR32ZAL2lcDxA0VoEZCYxnTZCx'''\n",
    "def get_data_sdk():\n",
    "    try:\n",
    "        graph=facebook.GraphAPI(access_token=token)\n",
    "        posts=graph.request('/me/posts')[\"data\"]\n",
    "        user=graph.request('/me?fields=name')\n",
    "        \n",
    "        newlist=[]\n",
    "        for d in posts:\n",
    "            try :\n",
    "                newlist.append(d['message'])\n",
    "            except:\n",
    "                newlist.append(\"no message\")\n",
    "        \n",
    "        if newlist !=0:\n",
    "            now = datetime.datetime.now()\n",
    "            filename = str(user['name']) + 'posted on' + now.strftime('-%y-%m-%d-' + '@-%h-%m')\n",
    "            \n",
    "            with open(filename+'.txt' ,'w', encoding=\"utf-8\") as f:\n",
    "                for item in newlist:\n",
    "                    f.write('%s/n' % item)\n",
    "            print(\"saved successfuly\")\n",
    "        else:\n",
    "            print(\"there were no posts\")\n",
    "            \n",
    "    except Exception as e:\n",
    "        print(e)\n",
    "        "
   ]
  },
  {
   "cell_type": "code",
   "execution_count": 32,
   "metadata": {},
   "outputs": [
    {
     "name": "stdout",
     "output_type": "stream",
     "text": [
      "saved successfuly\n"
     ]
    }
   ],
   "source": [
    "get_data_sdk()"
   ]
  },
  {
   "cell_type": "code",
   "execution_count": null,
   "metadata": {},
   "outputs": [],
   "source": []
  }
 ],
 "metadata": {
  "kernelspec": {
   "display_name": "Python 3",
   "language": "python",
   "name": "python3"
  },
  "language_info": {
   "codemirror_mode": {
    "name": "ipython",
    "version": 3
   },
   "file_extension": ".py",
   "mimetype": "text/x-python",
   "name": "python",
   "nbconvert_exporter": "python",
   "pygments_lexer": "ipython3",
   "version": "3.8.5"
  }
 },
 "nbformat": 4,
 "nbformat_minor": 4
}
