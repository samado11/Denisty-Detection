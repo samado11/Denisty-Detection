{
 "cells": [
  {
   "cell_type": "code",
   "execution_count": 1,
   "metadata": {},
   "outputs": [],
   "source": [
    "# import tweepy\n",
    "import tweepy as tw\n",
    "from config import *\n",
    "\n",
    "# your Twitter API key and API secret\n",
    "# authenticate\n",
    "\n",
    "auth = tw.OAuthHandler(my_api_key, my_api_secret)\n",
    "api = tw.API(auth, wait_on_rate_limit=True)"
   ]
  },
  {
   "cell_type": "code",
   "execution_count": 2,
   "metadata": {},
   "outputs": [],
   "source": [
    "search_words = \"#wildfires\"\n",
    "date_since = \"2018-11-16\""
   ]
  },
  {
   "cell_type": "code",
   "execution_count": 4,
   "metadata": {},
   "outputs": [
    {
     "name": "stderr",
     "output_type": "stream",
     "text": [
      "Unexpected parameter: since\n"
     ]
    },
    {
     "name": "stdout",
     "output_type": "stream",
     "text": [
      "RT @RandyVMedia: Some of the redwoods trees near a campground at Big Basin Redwoods State Park. \n",
      "\n",
      "#BigBasin #CZULightningComplexFire #wildf…\n",
      "RT @Ruptly: #Patagonia skies covered in thick haze amid raging #wildfires\n",
      "\n",
      "A nationwide state of #emergency has been declared as more than…\n",
      "Healthy, managed #forests are less prone to major #wildfires that destroy valuable #wildlife habitat, recreational… https://t.co/ez7atx96rz\n",
      "RT @Ruptly: #Patagonia skies covered in thick haze amid raging #wildfires\n",
      "\n",
      "A nationwide state of #emergency has been declared as more than…\n",
      "Picture 721 football fields 🏟 \n",
      "\n",
      "That’s approximately the size of the land area that burned in Turkey, Greece and It… https://t.co/o4kfMBwhXn\n",
      "Total Tweets fetched: 5\n"
     ]
    }
   ],
   "source": [
    "# Collect tweets\n",
    "tweets = tw.Cursor(api.search_tweets,\n",
    "              q=search_words,\n",
    "              lang=\"en\",\n",
    "              since=date_since).items(5)\n",
    "\n",
    "\n",
    "\n",
    "# store the API responses in a list\n",
    "tweets_copy = []\n",
    "for tweet in tweets:\n",
    "    tweets_copy.append(tweet)\n",
    "    print(tweet.text)\n",
    "    \n",
    "print(\"Total Tweets fetched:\", len(tweets_copy))"
   ]
  },
  {
   "cell_type": "code",
   "execution_count": 5,
   "metadata": {},
   "outputs": [],
   "source": [
    "for tweet in tweets:\n",
    "    print(tweet.text)"
   ]
  },
  {
   "cell_type": "code",
   "execution_count": 6,
   "metadata": {},
   "outputs": [
    {
     "data": {
      "text/plain": [
       "Status(_api=<tweepy.api.API object at 0x00000245DABBA760>, _json={'created_at': 'Thu Dec 30 11:04:11 +0000 2021', 'id': 1476509415486410754, 'id_str': '1476509415486410754', 'text': 'RT @RandyVMedia: Some of the redwoods trees near a campground at Big Basin Redwoods State Park. \\n\\n#BigBasin #CZULightningComplexFire #wildf…', 'truncated': False, 'entities': {'hashtags': [{'text': 'BigBasin', 'indices': [98, 107]}, {'text': 'CZULightningComplexFire', 'indices': [108, 132]}], 'symbols': [], 'user_mentions': [{'screen_name': 'RandyVMedia', 'name': 'Randy Vazquez', 'id': 2998000922, 'id_str': '2998000922', 'indices': [3, 15]}], 'urls': []}, 'metadata': {'iso_language_code': 'en', 'result_type': 'recent'}, 'source': '<a href=\"https://mobile.twitter.com\" rel=\"nofollow\">Twitter Web App</a>', 'in_reply_to_status_id': None, 'in_reply_to_status_id_str': None, 'in_reply_to_user_id': None, 'in_reply_to_user_id_str': None, 'in_reply_to_screen_name': None, 'user': {'id': 3664157662, 'id_str': '3664157662', 'name': 'Trillion Trees Game', 'screen_name': 'TrillionTrees_', 'location': 'BCN, Berlin, New York, LA', 'description': 'The Trillion Trees Game by Change Games and Greening Deserts will be developed with best of game developers. #forestgame #reforestation #treegame #trilliontrees', 'url': 'https://t.co/T0inulzvqz', 'entities': {'url': {'urls': [{'url': 'https://t.co/T0inulzvqz', 'expanded_url': 'http://trilliontreesgame.com', 'display_url': 'trilliontreesgame.com', 'indices': [0, 23]}]}, 'description': {'urls': []}}, 'protected': False, 'followers_count': 6086, 'friends_count': 4669, 'listed_count': 21, 'created_at': 'Tue Sep 15 13:03:52 +0000 2015', 'favourites_count': 55, 'utc_offset': None, 'time_zone': None, 'geo_enabled': False, 'verified': False, 'statuses_count': 118, 'lang': None, 'contributors_enabled': False, 'is_translator': False, 'is_translation_enabled': False, 'profile_background_color': 'C0DEED', 'profile_background_image_url': 'http://abs.twimg.com/images/themes/theme1/bg.png', 'profile_background_image_url_https': 'https://abs.twimg.com/images/themes/theme1/bg.png', 'profile_background_tile': False, 'profile_image_url': 'http://pbs.twimg.com/profile_images/643773534481842176/AHAeqain_normal.jpg', 'profile_image_url_https': 'https://pbs.twimg.com/profile_images/643773534481842176/AHAeqain_normal.jpg', 'profile_banner_url': 'https://pbs.twimg.com/profile_banners/3664157662/1602531032', 'profile_link_color': '1DA1F2', 'profile_sidebar_border_color': 'C0DEED', 'profile_sidebar_fill_color': 'DDEEF6', 'profile_text_color': '333333', 'profile_use_background_image': True, 'has_extended_profile': False, 'default_profile': True, 'default_profile_image': False, 'following': None, 'follow_request_sent': None, 'notifications': None, 'translator_type': 'none', 'withheld_in_countries': []}, 'geo': None, 'coordinates': None, 'place': None, 'contributors': None, 'retweeted_status': {'created_at': 'Sun Aug 23 04:08:37 +0000 2020', 'id': 1297385230949445632, 'id_str': '1297385230949445632', 'text': 'Some of the redwoods trees near a campground at Big Basin Redwoods State Park. \\n\\n#BigBasin #CZULightningComplexFire… https://t.co/tg0CPpJKPY', 'truncated': True, 'entities': {'hashtags': [{'text': 'BigBasin', 'indices': [81, 90]}, {'text': 'CZULightningComplexFire', 'indices': [91, 115]}], 'symbols': [], 'user_mentions': [], 'urls': [{'url': 'https://t.co/tg0CPpJKPY', 'expanded_url': 'https://twitter.com/i/web/status/1297385230949445632', 'display_url': 'twitter.com/i/web/status/1…', 'indices': [117, 140]}]}, 'metadata': {'iso_language_code': 'en', 'result_type': 'recent'}, 'source': '<a href=\"https://mobile.twitter.com\" rel=\"nofollow\">Twitter Web App</a>', 'in_reply_to_status_id': 1297384638768279553, 'in_reply_to_status_id_str': '1297384638768279553', 'in_reply_to_user_id': 2998000922, 'in_reply_to_user_id_str': '2998000922', 'in_reply_to_screen_name': 'RandyVMedia', 'user': {'id': 2998000922, 'id_str': '2998000922', 'name': 'Randy Vazquez', 'screen_name': 'RandyVMedia', 'location': '', 'description': '🇲🇽 Visual Journalist currently @usc and @MercNews . Former @SunSentinel @NYT_institute @SpartanDaily.', 'url': 'https://t.co/WbsIRvDUNh', 'entities': {'url': {'urls': [{'url': 'https://t.co/WbsIRvDUNh', 'expanded_url': 'http://RandyVazquezMedia.com', 'display_url': 'RandyVazquezMedia.com', 'indices': [0, 23]}]}, 'description': {'urls': []}}, 'protected': False, 'followers_count': 826, 'friends_count': 825, 'listed_count': 0, 'created_at': 'Tue Jan 27 06:52:32 +0000 2015', 'favourites_count': 2796, 'utc_offset': None, 'time_zone': None, 'geo_enabled': True, 'verified': False, 'statuses_count': 1166, 'lang': None, 'contributors_enabled': False, 'is_translator': False, 'is_translation_enabled': False, 'profile_background_color': '000000', 'profile_background_image_url': 'http://abs.twimg.com/images/themes/theme1/bg.png', 'profile_background_image_url_https': 'https://abs.twimg.com/images/themes/theme1/bg.png', 'profile_background_tile': False, 'profile_image_url': 'http://pbs.twimg.com/profile_images/1304187125986988032/VD-J13ex_normal.jpg', 'profile_image_url_https': 'https://pbs.twimg.com/profile_images/1304187125986988032/VD-J13ex_normal.jpg', 'profile_banner_url': 'https://pbs.twimg.com/profile_banners/2998000922/1469155972', 'profile_link_color': '4A913C', 'profile_sidebar_border_color': '000000', 'profile_sidebar_fill_color': '000000', 'profile_text_color': '000000', 'profile_use_background_image': False, 'has_extended_profile': False, 'default_profile': False, 'default_profile_image': False, 'following': None, 'follow_request_sent': None, 'notifications': None, 'translator_type': 'none', 'withheld_in_countries': []}, 'geo': None, 'coordinates': None, 'place': None, 'contributors': None, 'is_quote_status': False, 'retweet_count': 19, 'favorite_count': 33, 'favorited': False, 'retweeted': False, 'possibly_sensitive': False, 'lang': 'en'}, 'is_quote_status': False, 'retweet_count': 19, 'favorite_count': 0, 'favorited': False, 'retweeted': False, 'lang': 'en'}, created_at=datetime.datetime(2021, 12, 30, 11, 4, 11, tzinfo=datetime.timezone.utc), id=1476509415486410754, id_str='1476509415486410754', text='RT @RandyVMedia: Some of the redwoods trees near a campground at Big Basin Redwoods State Park. \\n\\n#BigBasin #CZULightningComplexFire #wildf…', truncated=False, entities={'hashtags': [{'text': 'BigBasin', 'indices': [98, 107]}, {'text': 'CZULightningComplexFire', 'indices': [108, 132]}], 'symbols': [], 'user_mentions': [{'screen_name': 'RandyVMedia', 'name': 'Randy Vazquez', 'id': 2998000922, 'id_str': '2998000922', 'indices': [3, 15]}], 'urls': []}, metadata={'iso_language_code': 'en', 'result_type': 'recent'}, source='Twitter Web App', source_url='https://mobile.twitter.com', in_reply_to_status_id=None, in_reply_to_status_id_str=None, in_reply_to_user_id=None, in_reply_to_user_id_str=None, in_reply_to_screen_name=None, author=User(_api=<tweepy.api.API object at 0x00000245DABBA760>, _json={'id': 3664157662, 'id_str': '3664157662', 'name': 'Trillion Trees Game', 'screen_name': 'TrillionTrees_', 'location': 'BCN, Berlin, New York, LA', 'description': 'The Trillion Trees Game by Change Games and Greening Deserts will be developed with best of game developers. #forestgame #reforestation #treegame #trilliontrees', 'url': 'https://t.co/T0inulzvqz', 'entities': {'url': {'urls': [{'url': 'https://t.co/T0inulzvqz', 'expanded_url': 'http://trilliontreesgame.com', 'display_url': 'trilliontreesgame.com', 'indices': [0, 23]}]}, 'description': {'urls': []}}, 'protected': False, 'followers_count': 6086, 'friends_count': 4669, 'listed_count': 21, 'created_at': 'Tue Sep 15 13:03:52 +0000 2015', 'favourites_count': 55, 'utc_offset': None, 'time_zone': None, 'geo_enabled': False, 'verified': False, 'statuses_count': 118, 'lang': None, 'contributors_enabled': False, 'is_translator': False, 'is_translation_enabled': False, 'profile_background_color': 'C0DEED', 'profile_background_image_url': 'http://abs.twimg.com/images/themes/theme1/bg.png', 'profile_background_image_url_https': 'https://abs.twimg.com/images/themes/theme1/bg.png', 'profile_background_tile': False, 'profile_image_url': 'http://pbs.twimg.com/profile_images/643773534481842176/AHAeqain_normal.jpg', 'profile_image_url_https': 'https://pbs.twimg.com/profile_images/643773534481842176/AHAeqain_normal.jpg', 'profile_banner_url': 'https://pbs.twimg.com/profile_banners/3664157662/1602531032', 'profile_link_color': '1DA1F2', 'profile_sidebar_border_color': 'C0DEED', 'profile_sidebar_fill_color': 'DDEEF6', 'profile_text_color': '333333', 'profile_use_background_image': True, 'has_extended_profile': False, 'default_profile': True, 'default_profile_image': False, 'following': None, 'follow_request_sent': None, 'notifications': None, 'translator_type': 'none', 'withheld_in_countries': []}, id=3664157662, id_str='3664157662', name='Trillion Trees Game', screen_name='TrillionTrees_', location='BCN, Berlin, New York, LA', description='The Trillion Trees Game by Change Games and Greening Deserts will be developed with best of game developers. #forestgame #reforestation #treegame #trilliontrees', url='https://t.co/T0inulzvqz', entities={'url': {'urls': [{'url': 'https://t.co/T0inulzvqz', 'expanded_url': 'http://trilliontreesgame.com', 'display_url': 'trilliontreesgame.com', 'indices': [0, 23]}]}, 'description': {'urls': []}}, protected=False, followers_count=6086, friends_count=4669, listed_count=21, created_at=datetime.datetime(2015, 9, 15, 13, 3, 52, tzinfo=datetime.timezone.utc), favourites_count=55, utc_offset=None, time_zone=None, geo_enabled=False, verified=False, statuses_count=118, lang=None, contributors_enabled=False, is_translator=False, is_translation_enabled=False, profile_background_color='C0DEED', profile_background_image_url='http://abs.twimg.com/images/themes/theme1/bg.png', profile_background_image_url_https='https://abs.twimg.com/images/themes/theme1/bg.png', profile_background_tile=False, profile_image_url='http://pbs.twimg.com/profile_images/643773534481842176/AHAeqain_normal.jpg', profile_image_url_https='https://pbs.twimg.com/profile_images/643773534481842176/AHAeqain_normal.jpg', profile_banner_url='https://pbs.twimg.com/profile_banners/3664157662/1602531032', profile_link_color='1DA1F2', profile_sidebar_border_color='C0DEED', profile_sidebar_fill_color='DDEEF6', profile_text_color='333333', profile_use_background_image=True, has_extended_profile=False, default_profile=True, default_profile_image=False, following=False, follow_request_sent=None, notifications=None, translator_type='none', withheld_in_countries=[]), user=User(_api=<tweepy.api.API object at 0x00000245DABBA760>, _json={'id': 3664157662, 'id_str': '3664157662', 'name': 'Trillion Trees Game', 'screen_name': 'TrillionTrees_', 'location': 'BCN, Berlin, New York, LA', 'description': 'The Trillion Trees Game by Change Games and Greening Deserts will be developed with best of game developers. #forestgame #reforestation #treegame #trilliontrees', 'url': 'https://t.co/T0inulzvqz', 'entities': {'url': {'urls': [{'url': 'https://t.co/T0inulzvqz', 'expanded_url': 'http://trilliontreesgame.com', 'display_url': 'trilliontreesgame.com', 'indices': [0, 23]}]}, 'description': {'urls': []}}, 'protected': False, 'followers_count': 6086, 'friends_count': 4669, 'listed_count': 21, 'created_at': 'Tue Sep 15 13:03:52 +0000 2015', 'favourites_count': 55, 'utc_offset': None, 'time_zone': None, 'geo_enabled': False, 'verified': False, 'statuses_count': 118, 'lang': None, 'contributors_enabled': False, 'is_translator': False, 'is_translation_enabled': False, 'profile_background_color': 'C0DEED', 'profile_background_image_url': 'http://abs.twimg.com/images/themes/theme1/bg.png', 'profile_background_image_url_https': 'https://abs.twimg.com/images/themes/theme1/bg.png', 'profile_background_tile': False, 'profile_image_url': 'http://pbs.twimg.com/profile_images/643773534481842176/AHAeqain_normal.jpg', 'profile_image_url_https': 'https://pbs.twimg.com/profile_images/643773534481842176/AHAeqain_normal.jpg', 'profile_banner_url': 'https://pbs.twimg.com/profile_banners/3664157662/1602531032', 'profile_link_color': '1DA1F2', 'profile_sidebar_border_color': 'C0DEED', 'profile_sidebar_fill_color': 'DDEEF6', 'profile_text_color': '333333', 'profile_use_background_image': True, 'has_extended_profile': False, 'default_profile': True, 'default_profile_image': False, 'following': None, 'follow_request_sent': None, 'notifications': None, 'translator_type': 'none', 'withheld_in_countries': []}, id=3664157662, id_str='3664157662', name='Trillion Trees Game', screen_name='TrillionTrees_', location='BCN, Berlin, New York, LA', description='The Trillion Trees Game by Change Games and Greening Deserts will be developed with best of game developers. #forestgame #reforestation #treegame #trilliontrees', url='https://t.co/T0inulzvqz', entities={'url': {'urls': [{'url': 'https://t.co/T0inulzvqz', 'expanded_url': 'http://trilliontreesgame.com', 'display_url': 'trilliontreesgame.com', 'indices': [0, 23]}]}, 'description': {'urls': []}}, protected=False, followers_count=6086, friends_count=4669, listed_count=21, created_at=datetime.datetime(2015, 9, 15, 13, 3, 52, tzinfo=datetime.timezone.utc), favourites_count=55, utc_offset=None, time_zone=None, geo_enabled=False, verified=False, statuses_count=118, lang=None, contributors_enabled=False, is_translator=False, is_translation_enabled=False, profile_background_color='C0DEED', profile_background_image_url='http://abs.twimg.com/images/themes/theme1/bg.png', profile_background_image_url_https='https://abs.twimg.com/images/themes/theme1/bg.png', profile_background_tile=False, profile_image_url='http://pbs.twimg.com/profile_images/643773534481842176/AHAeqain_normal.jpg', profile_image_url_https='https://pbs.twimg.com/profile_images/643773534481842176/AHAeqain_normal.jpg', profile_banner_url='https://pbs.twimg.com/profile_banners/3664157662/1602531032', profile_link_color='1DA1F2', profile_sidebar_border_color='C0DEED', profile_sidebar_fill_color='DDEEF6', profile_text_color='333333', profile_use_background_image=True, has_extended_profile=False, default_profile=True, default_profile_image=False, following=False, follow_request_sent=None, notifications=None, translator_type='none', withheld_in_countries=[]), geo=None, coordinates=None, place=None, contributors=None, retweeted_status=Status(_api=<tweepy.api.API object at 0x00000245DABBA760>, _json={'created_at': 'Sun Aug 23 04:08:37 +0000 2020', 'id': 1297385230949445632, 'id_str': '1297385230949445632', 'text': 'Some of the redwoods trees near a campground at Big Basin Redwoods State Park. \\n\\n#BigBasin #CZULightningComplexFire… https://t.co/tg0CPpJKPY', 'truncated': True, 'entities': {'hashtags': [{'text': 'BigBasin', 'indices': [81, 90]}, {'text': 'CZULightningComplexFire', 'indices': [91, 115]}], 'symbols': [], 'user_mentions': [], 'urls': [{'url': 'https://t.co/tg0CPpJKPY', 'expanded_url': 'https://twitter.com/i/web/status/1297385230949445632', 'display_url': 'twitter.com/i/web/status/1…', 'indices': [117, 140]}]}, 'metadata': {'iso_language_code': 'en', 'result_type': 'recent'}, 'source': '<a href=\"https://mobile.twitter.com\" rel=\"nofollow\">Twitter Web App</a>', 'in_reply_to_status_id': 1297384638768279553, 'in_reply_to_status_id_str': '1297384638768279553', 'in_reply_to_user_id': 2998000922, 'in_reply_to_user_id_str': '2998000922', 'in_reply_to_screen_name': 'RandyVMedia', 'user': {'id': 2998000922, 'id_str': '2998000922', 'name': 'Randy Vazquez', 'screen_name': 'RandyVMedia', 'location': '', 'description': '🇲🇽 Visual Journalist currently @usc and @MercNews . Former @SunSentinel @NYT_institute @SpartanDaily.', 'url': 'https://t.co/WbsIRvDUNh', 'entities': {'url': {'urls': [{'url': 'https://t.co/WbsIRvDUNh', 'expanded_url': 'http://RandyVazquezMedia.com', 'display_url': 'RandyVazquezMedia.com', 'indices': [0, 23]}]}, 'description': {'urls': []}}, 'protected': False, 'followers_count': 826, 'friends_count': 825, 'listed_count': 0, 'created_at': 'Tue Jan 27 06:52:32 +0000 2015', 'favourites_count': 2796, 'utc_offset': None, 'time_zone': None, 'geo_enabled': True, 'verified': False, 'statuses_count': 1166, 'lang': None, 'contributors_enabled': False, 'is_translator': False, 'is_translation_enabled': False, 'profile_background_color': '000000', 'profile_background_image_url': 'http://abs.twimg.com/images/themes/theme1/bg.png', 'profile_background_image_url_https': 'https://abs.twimg.com/images/themes/theme1/bg.png', 'profile_background_tile': False, 'profile_image_url': 'http://pbs.twimg.com/profile_images/1304187125986988032/VD-J13ex_normal.jpg', 'profile_image_url_https': 'https://pbs.twimg.com/profile_images/1304187125986988032/VD-J13ex_normal.jpg', 'profile_banner_url': 'https://pbs.twimg.com/profile_banners/2998000922/1469155972', 'profile_link_color': '4A913C', 'profile_sidebar_border_color': '000000', 'profile_sidebar_fill_color': '000000', 'profile_text_color': '000000', 'profile_use_background_image': False, 'has_extended_profile': False, 'default_profile': False, 'default_profile_image': False, 'following': None, 'follow_request_sent': None, 'notifications': None, 'translator_type': 'none', 'withheld_in_countries': []}, 'geo': None, 'coordinates': None, 'place': None, 'contributors': None, 'is_quote_status': False, 'retweet_count': 19, 'favorite_count': 33, 'favorited': False, 'retweeted': False, 'possibly_sensitive': False, 'lang': 'en'}, created_at=datetime.datetime(2020, 8, 23, 4, 8, 37, tzinfo=datetime.timezone.utc), id=1297385230949445632, id_str='1297385230949445632', text='Some of the redwoods trees near a campground at Big Basin Redwoods State Park. \\n\\n#BigBasin #CZULightningComplexFire… https://t.co/tg0CPpJKPY', truncated=True, entities={'hashtags': [{'text': 'BigBasin', 'indices': [81, 90]}, {'text': 'CZULightningComplexFire', 'indices': [91, 115]}], 'symbols': [], 'user_mentions': [], 'urls': [{'url': 'https://t.co/tg0CPpJKPY', 'expanded_url': 'https://twitter.com/i/web/status/1297385230949445632', 'display_url': 'twitter.com/i/web/status/1…', 'indices': [117, 140]}]}, metadata={'iso_language_code': 'en', 'result_type': 'recent'}, source='Twitter Web App', source_url='https://mobile.twitter.com', in_reply_to_status_id=1297384638768279553, in_reply_to_status_id_str='1297384638768279553', in_reply_to_user_id=2998000922, in_reply_to_user_id_str='2998000922', in_reply_to_screen_name='RandyVMedia', author=User(_api=<tweepy.api.API object at 0x00000245DABBA760>, _json={'id': 2998000922, 'id_str': '2998000922', 'name': 'Randy Vazquez', 'screen_name': 'RandyVMedia', 'location': '', 'description': '🇲🇽 Visual Journalist currently @usc and @MercNews . Former @SunSentinel @NYT_institute @SpartanDaily.', 'url': 'https://t.co/WbsIRvDUNh', 'entities': {'url': {'urls': [{'url': 'https://t.co/WbsIRvDUNh', 'expanded_url': 'http://RandyVazquezMedia.com', 'display_url': 'RandyVazquezMedia.com', 'indices': [0, 23]}]}, 'description': {'urls': []}}, 'protected': False, 'followers_count': 826, 'friends_count': 825, 'listed_count': 0, 'created_at': 'Tue Jan 27 06:52:32 +0000 2015', 'favourites_count': 2796, 'utc_offset': None, 'time_zone': None, 'geo_enabled': True, 'verified': False, 'statuses_count': 1166, 'lang': None, 'contributors_enabled': False, 'is_translator': False, 'is_translation_enabled': False, 'profile_background_color': '000000', 'profile_background_image_url': 'http://abs.twimg.com/images/themes/theme1/bg.png', 'profile_background_image_url_https': 'https://abs.twimg.com/images/themes/theme1/bg.png', 'profile_background_tile': False, 'profile_image_url': 'http://pbs.twimg.com/profile_images/1304187125986988032/VD-J13ex_normal.jpg', 'profile_image_url_https': 'https://pbs.twimg.com/profile_images/1304187125986988032/VD-J13ex_normal.jpg', 'profile_banner_url': 'https://pbs.twimg.com/profile_banners/2998000922/1469155972', 'profile_link_color': '4A913C', 'profile_sidebar_border_color': '000000', 'profile_sidebar_fill_color': '000000', 'profile_text_color': '000000', 'profile_use_background_image': False, 'has_extended_profile': False, 'default_profile': False, 'default_profile_image': False, 'following': None, 'follow_request_sent': None, 'notifications': None, 'translator_type': 'none', 'withheld_in_countries': []}, id=2998000922, id_str='2998000922', name='Randy Vazquez', screen_name='RandyVMedia', location='', description='🇲🇽 Visual Journalist currently @usc and @MercNews . Former @SunSentinel @NYT_institute @SpartanDaily.', url='https://t.co/WbsIRvDUNh', entities={'url': {'urls': [{'url': 'https://t.co/WbsIRvDUNh', 'expanded_url': 'http://RandyVazquezMedia.com', 'display_url': 'RandyVazquezMedia.com', 'indices': [0, 23]}]}, 'description': {'urls': []}}, protected=False, followers_count=826, friends_count=825, listed_count=0, created_at=datetime.datetime(2015, 1, 27, 6, 52, 32, tzinfo=datetime.timezone.utc), favourites_count=2796, utc_offset=None, time_zone=None, geo_enabled=True, verified=False, statuses_count=1166, lang=None, contributors_enabled=False, is_translator=False, is_translation_enabled=False, profile_background_color='000000', profile_background_image_url='http://abs.twimg.com/images/themes/theme1/bg.png', profile_background_image_url_https='https://abs.twimg.com/images/themes/theme1/bg.png', profile_background_tile=False, profile_image_url='http://pbs.twimg.com/profile_images/1304187125986988032/VD-J13ex_normal.jpg', profile_image_url_https='https://pbs.twimg.com/profile_images/1304187125986988032/VD-J13ex_normal.jpg', profile_banner_url='https://pbs.twimg.com/profile_banners/2998000922/1469155972', profile_link_color='4A913C', profile_sidebar_border_color='000000', profile_sidebar_fill_color='000000', profile_text_color='000000', profile_use_background_image=False, has_extended_profile=False, default_profile=False, default_profile_image=False, following=False, follow_request_sent=None, notifications=None, translator_type='none', withheld_in_countries=[]), user=User(_api=<tweepy.api.API object at 0x00000245DABBA760>, _json={'id': 2998000922, 'id_str': '2998000922', 'name': 'Randy Vazquez', 'screen_name': 'RandyVMedia', 'location': '', 'description': '🇲🇽 Visual Journalist currently @usc and @MercNews . Former @SunSentinel @NYT_institute @SpartanDaily.', 'url': 'https://t.co/WbsIRvDUNh', 'entities': {'url': {'urls': [{'url': 'https://t.co/WbsIRvDUNh', 'expanded_url': 'http://RandyVazquezMedia.com', 'display_url': 'RandyVazquezMedia.com', 'indices': [0, 23]}]}, 'description': {'urls': []}}, 'protected': False, 'followers_count': 826, 'friends_count': 825, 'listed_count': 0, 'created_at': 'Tue Jan 27 06:52:32 +0000 2015', 'favourites_count': 2796, 'utc_offset': None, 'time_zone': None, 'geo_enabled': True, 'verified': False, 'statuses_count': 1166, 'lang': None, 'contributors_enabled': False, 'is_translator': False, 'is_translation_enabled': False, 'profile_background_color': '000000', 'profile_background_image_url': 'http://abs.twimg.com/images/themes/theme1/bg.png', 'profile_background_image_url_https': 'https://abs.twimg.com/images/themes/theme1/bg.png', 'profile_background_tile': False, 'profile_image_url': 'http://pbs.twimg.com/profile_images/1304187125986988032/VD-J13ex_normal.jpg', 'profile_image_url_https': 'https://pbs.twimg.com/profile_images/1304187125986988032/VD-J13ex_normal.jpg', 'profile_banner_url': 'https://pbs.twimg.com/profile_banners/2998000922/1469155972', 'profile_link_color': '4A913C', 'profile_sidebar_border_color': '000000', 'profile_sidebar_fill_color': '000000', 'profile_text_color': '000000', 'profile_use_background_image': False, 'has_extended_profile': False, 'default_profile': False, 'default_profile_image': False, 'following': None, 'follow_request_sent': None, 'notifications': None, 'translator_type': 'none', 'withheld_in_countries': []}, id=2998000922, id_str='2998000922', name='Randy Vazquez', screen_name='RandyVMedia', location='', description='🇲🇽 Visual Journalist currently @usc and @MercNews . Former @SunSentinel @NYT_institute @SpartanDaily.', url='https://t.co/WbsIRvDUNh', entities={'url': {'urls': [{'url': 'https://t.co/WbsIRvDUNh', 'expanded_url': 'http://RandyVazquezMedia.com', 'display_url': 'RandyVazquezMedia.com', 'indices': [0, 23]}]}, 'description': {'urls': []}}, protected=False, followers_count=826, friends_count=825, listed_count=0, created_at=datetime.datetime(2015, 1, 27, 6, 52, 32, tzinfo=datetime.timezone.utc), favourites_count=2796, utc_offset=None, time_zone=None, geo_enabled=True, verified=False, statuses_count=1166, lang=None, contributors_enabled=False, is_translator=False, is_translation_enabled=False, profile_background_color='000000', profile_background_image_url='http://abs.twimg.com/images/themes/theme1/bg.png', profile_background_image_url_https='https://abs.twimg.com/images/themes/theme1/bg.png', profile_background_tile=False, profile_image_url='http://pbs.twimg.com/profile_images/1304187125986988032/VD-J13ex_normal.jpg', profile_image_url_https='https://pbs.twimg.com/profile_images/1304187125986988032/VD-J13ex_normal.jpg', profile_banner_url='https://pbs.twimg.com/profile_banners/2998000922/1469155972', profile_link_color='4A913C', profile_sidebar_border_color='000000', profile_sidebar_fill_color='000000', profile_text_color='000000', profile_use_background_image=False, has_extended_profile=False, default_profile=False, default_profile_image=False, following=False, follow_request_sent=None, notifications=None, translator_type='none', withheld_in_countries=[]), geo=None, coordinates=None, place=None, contributors=None, is_quote_status=False, retweet_count=19, favorite_count=33, favorited=False, retweeted=False, possibly_sensitive=False, lang='en'), is_quote_status=False, retweet_count=19, favorite_count=0, favorited=False, retweeted=False, lang='en')"
      ]
     },
     "execution_count": 6,
     "metadata": {},
     "output_type": "execute_result"
    }
   ],
   "source": [
    "tweets_copy[0]"
   ]
  },
  {
   "cell_type": "code",
   "execution_count": null,
   "metadata": {},
   "outputs": [],
   "source": [
    "#https://jsonformatter.curiousconcept.com/#"
   ]
  },
  {
   "cell_type": "code",
   "execution_count": 7,
   "metadata": {},
   "outputs": [
    {
     "data": {
      "text/html": [
       "<div>\n",
       "<style scoped>\n",
       "    .dataframe tbody tr th:only-of-type {\n",
       "        vertical-align: middle;\n",
       "    }\n",
       "\n",
       "    .dataframe tbody tr th {\n",
       "        vertical-align: top;\n",
       "    }\n",
       "\n",
       "    .dataframe thead th {\n",
       "        text-align: right;\n",
       "    }\n",
       "</style>\n",
       "<table border=\"1\" class=\"dataframe\">\n",
       "  <thead>\n",
       "    <tr style=\"text-align: right;\">\n",
       "      <th></th>\n",
       "      <th>user_name</th>\n",
       "      <th>user_location</th>\n",
       "      <th>user_description</th>\n",
       "      <th>user_verified</th>\n",
       "      <th>date</th>\n",
       "      <th>text</th>\n",
       "      <th>hashtags</th>\n",
       "      <th>source</th>\n",
       "    </tr>\n",
       "  </thead>\n",
       "  <tbody>\n",
       "    <tr>\n",
       "      <th>0</th>\n",
       "      <td>𝓚𝓞𝓜𝓐𝓛 𝓢𝓗𝓐𝓡𝓜𝓐</td>\n",
       "      <td>India</td>\n",
       "      <td>Student</td>\n",
       "      <td>False</td>\n",
       "      <td>2021-12-29 10:48:41+00:00</td>\n",
       "      <td>#COVID19 Blast in Kapoor family \\n#SonamKapoor...</td>\n",
       "      <td>[COVID19, SonamKapoor, RheaKapoor, ArjunKapoor]</td>\n",
       "      <td>Twitter Web App</td>\n",
       "    </tr>\n",
       "    <tr>\n",
       "      <th>1</th>\n",
       "      <td>BioComp</td>\n",
       "      <td>Castellón de la Plana, Spain</td>\n",
       "      <td>The group at UJI leaded by Vicent Moliner and ...</td>\n",
       "      <td>False</td>\n",
       "      <td>2021-12-29 10:48:40+00:00</td>\n",
       "      <td>Our work on the impact of warhead modulation o...</td>\n",
       "      <td>None</td>\n",
       "      <td>Twitter Web App</td>\n",
       "    </tr>\n",
       "    <tr>\n",
       "      <th>2</th>\n",
       "      <td>Saurabh</td>\n",
       "      <td>Prayagraj, भारत</td>\n",
       "      <td>It has always been a mystery to me how men can...</td>\n",
       "      <td>False</td>\n",
       "      <td>2021-12-29 10:48:38+00:00</td>\n",
       "      <td>@TimesNow Colonial Mindset. Politicians, burea...</td>\n",
       "      <td>None</td>\n",
       "      <td>Twitter for iPhone</td>\n",
       "    </tr>\n",
       "    <tr>\n",
       "      <th>3</th>\n",
       "      <td>FiloBedo100</td>\n",
       "      <td>Scotland</td>\n",
       "      <td>Here to read and ❤️ the SNHS</td>\n",
       "      <td>False</td>\n",
       "      <td>2021-12-29 10:48:37+00:00</td>\n",
       "      <td>“Coronavirus cases reached a new high in Engla...</td>\n",
       "      <td>None</td>\n",
       "      <td>Twitter for iPhone</td>\n",
       "    </tr>\n",
       "    <tr>\n",
       "      <th>4</th>\n",
       "      <td>The Times Of India</td>\n",
       "      <td>New Delhi</td>\n",
       "      <td>News. Views. Analysis. Conversations. India’s ...</td>\n",
       "      <td>True</td>\n",
       "      <td>2021-12-29 10:48:36+00:00</td>\n",
       "      <td>#COVID19 | Last week we were reporting 150 cas...</td>\n",
       "      <td>[COVID19]</td>\n",
       "      <td>Twitter Web App</td>\n",
       "    </tr>\n",
       "  </tbody>\n",
       "</table>\n",
       "</div>"
      ],
      "text/plain": [
       "            user_name                 user_location  \\\n",
       "0        𝓚𝓞𝓜𝓐𝓛 𝓢𝓗𝓐𝓡𝓜𝓐                         India   \n",
       "1             BioComp  Castellón de la Plana, Spain   \n",
       "2             Saurabh               Prayagraj, भारत   \n",
       "3         FiloBedo100                      Scotland   \n",
       "4  The Times Of India                     New Delhi   \n",
       "\n",
       "                                    user_description  user_verified  \\\n",
       "0                                            Student          False   \n",
       "1  The group at UJI leaded by Vicent Moliner and ...          False   \n",
       "2  It has always been a mystery to me how men can...          False   \n",
       "3                       Here to read and ❤️ the SNHS          False   \n",
       "4  News. Views. Analysis. Conversations. India’s ...           True   \n",
       "\n",
       "                       date  \\\n",
       "0 2021-12-29 10:48:41+00:00   \n",
       "1 2021-12-29 10:48:40+00:00   \n",
       "2 2021-12-29 10:48:38+00:00   \n",
       "3 2021-12-29 10:48:37+00:00   \n",
       "4 2021-12-29 10:48:36+00:00   \n",
       "\n",
       "                                                text  \\\n",
       "0  #COVID19 Blast in Kapoor family \\n#SonamKapoor...   \n",
       "1  Our work on the impact of warhead modulation o...   \n",
       "2  @TimesNow Colonial Mindset. Politicians, burea...   \n",
       "3  “Coronavirus cases reached a new high in Engla...   \n",
       "4  #COVID19 | Last week we were reporting 150 cas...   \n",
       "\n",
       "                                          hashtags              source  \n",
       "0  [COVID19, SonamKapoor, RheaKapoor, ArjunKapoor]     Twitter Web App  \n",
       "1                                             None     Twitter Web App  \n",
       "2                                             None  Twitter for iPhone  \n",
       "3                                             None  Twitter for iPhone  \n",
       "4                                        [COVID19]     Twitter Web App  "
      ]
     },
     "execution_count": 7,
     "metadata": {},
     "output_type": "execute_result"
    }
   ],
   "source": [
    "import pandas as pd\n",
    "# intialize the dataframe\n",
    "tweets_df = pd.DataFrame()\n",
    "# populate the dataframe\n",
    "for tweet in tweets_copy:\n",
    "    hashtags = []\n",
    "    try:\n",
    "        for hashtag in tweet.entities[\"hashtags\"]:\n",
    "            hashtags.append(hashtag[\"text\"])\n",
    "        text = api.get_status(id=tweet.id, tweet_mode='extended').full_text\n",
    "    except:\n",
    "        pass\n",
    "    tweets_df = tweets_df.append(pd.DataFrame({'user_name': tweet.user.name, \n",
    "                                               'user_location': tweet.user.location,\\\n",
    "                                               'user_description': tweet.user.description,\n",
    "                                               'user_verified': tweet.user.verified,\n",
    "                                               'date': tweet.created_at,\n",
    "                                               'text': text, \n",
    "                                               'hashtags': [hashtags if hashtags else None],\n",
    "                                               'source': tweet.source}))\n",
    "    tweets_df = tweets_df.reset_index(drop=True)\n",
    "# show the dataframe\n",
    "tweets_df.head()"
   ]
  },
  {
   "cell_type": "code",
   "execution_count": null,
   "metadata": {},
   "outputs": [],
   "source": []
  },
  {
   "cell_type": "code",
   "execution_count": null,
   "metadata": {},
   "outputs": [],
   "source": []
  },
  {
   "cell_type": "code",
   "execution_count": null,
   "metadata": {},
   "outputs": [],
   "source": []
  },
  {
   "cell_type": "code",
   "execution_count": null,
   "metadata": {},
   "outputs": [],
   "source": []
  },
  {
   "cell_type": "code",
   "execution_count": null,
   "metadata": {},
   "outputs": [],
   "source": []
  },
  {
   "cell_type": "code",
   "execution_count": null,
   "metadata": {},
   "outputs": [],
   "source": []
  },
  {
   "cell_type": "code",
   "execution_count": null,
   "metadata": {},
   "outputs": [],
   "source": [
    "(api.search_tweets, q=\"#squidgame since:\" + str(yesterday)+ \" until:\" + str(today),tweet_mode='extended', lang='it').items(50)"
   ]
  }
 ],
 "metadata": {
  "kernelspec": {
   "display_name": "Python 3",
   "language": "python",
   "name": "python3"
  },
  "language_info": {
   "codemirror_mode": {
    "name": "ipython",
    "version": 3
   },
   "file_extension": ".py",
   "mimetype": "text/x-python",
   "name": "python",
   "nbconvert_exporter": "python",
   "pygments_lexer": "ipython3",
   "version": "3.8.5"
  }
 },
 "nbformat": 4,
 "nbformat_minor": 4
}
